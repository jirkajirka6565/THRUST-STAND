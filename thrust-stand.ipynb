{
 "cells": [
  {
   "cell_type": "markdown",
   "metadata": {},
   "source": [
    "# Thrust stand for not only brushless motors"
   ]
  },
  {
   "cell_type": "markdown",
   "metadata": {},
   "source": [
    "### My custom stand designed in onshape:"
   ]
  },
  {
   "cell_type": "markdown",
   "metadata": {},
   "source": [
    "![alt text](thruststand.png)"
   ]
  },
  {
   "cell_type": "markdown",
   "metadata": {},
   "source": [
    "Blue parts are 3d printed, base is from wood.\n",
    "\n",
    "<ins>List of other parts used:<ins>\n",
    "\n",
    "Linear drive (MGN-9 + MGN-9H) - https://dratek.cz/arduino/51629-machifit-linearni-vedeni-s-vozikem-mgn9-delka-250-mm.html  \n",
    "Load Cell (3 Kg) - https://dratek.cz/arduino/2204-vahovy-senzor-3-kg-yzc-131.html"
   ]
  },
  {
   "cell_type": "markdown",
   "metadata": {},
   "source": [
    "<ins>Other needed parts:<ins>\n",
    "\n",
    "HX711 - https://dratek.cz/arduino/998-ad-prevodnik-modul-24-bit-2-kanaly-hx711.html  \n",
    "Arduino UNO (clone) - https://dratek.cz/arduino/1258-eses-klon-arduino-uno-r3-ch340.html  \n",
    "USB A to B cable - https://dratek.cz/arduino/122122-usb-kabel-usb-2.0-a-b-30cm.html  \n"
   ]
  },
  {
   "cell_type": "markdown",
   "metadata": {},
   "source": []
  }
 ],
 "metadata": {
  "language_info": {
   "name": "python"
  }
 },
 "nbformat": 4,
 "nbformat_minor": 2
}

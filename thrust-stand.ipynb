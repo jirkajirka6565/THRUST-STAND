{
 "cells": [
  {
   "cell_type": "markdown",
   "metadata": {},
   "source": [
    "# Thrust stand for not only brushless motors"
   ]
  },
  {
   "cell_type": "markdown",
   "metadata": {},
   "source": [
    "### My custom stand designed in onshape:"
   ]
  },
  {
   "cell_type": "markdown",
   "metadata": {},
   "source": [
    "![alt text](thruststand.png)"
   ]
  },
  {
   "cell_type": "markdown",
   "metadata": {},
   "source": [
    "Blue parts are 3d printed, base is from wood.\n",
    "\n",
    "List of other parts used:\n",
    "\n",
    "Linear drive (MGN-9 + MGN-9H) - https://dratek.cz/arduino/51629-machifit-linearni-vedeni-s-vozikem-mgn9-delka-250-mm.html\n",
    "Load Cell (3 Kg) - https://dratek.cz/arduino/2204-vahovy-senzor-3-kg-yzc-131.html\n",
    "\n"
   ]
  }
 ],
 "metadata": {
  "language_info": {
   "name": "python"
  }
 },
 "nbformat": 4,
 "nbformat_minor": 2
}
